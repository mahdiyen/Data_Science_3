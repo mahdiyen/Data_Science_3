{
 "cells": [
  {
   "cell_type": "code",
   "execution_count": 1,
   "id": "5abaf7be",
   "metadata": {},
   "outputs": [],
   "source": [
    "import pandas as pd\n",
    "import matplotlib.pyplot as plt\n",
    "import numpy as np"
   ]
  },
  {
   "attachments": {},
   "cell_type": "markdown",
   "id": "dfe3584c",
   "metadata": {},
   "source": [
    "#### Run data"
   ]
  },
  {
   "cell_type": "code",
   "execution_count": 2,
   "id": "c5b99bca",
   "metadata": {},
   "outputs": [],
   "source": [
    "data = pd.read_csv('../data/housing-data.txt')"
   ]
  },
  {
   "cell_type": "code",
   "execution_count": 3,
   "id": "4500da82",
   "metadata": {},
   "outputs": [
    {
     "data": {
      "text/html": [
       "<div>\n",
       "<style scoped>\n",
       "    .dataframe tbody tr th:only-of-type {\n",
       "        vertical-align: middle;\n",
       "    }\n",
       "\n",
       "    .dataframe tbody tr th {\n",
       "        vertical-align: top;\n",
       "    }\n",
       "\n",
       "    .dataframe thead th {\n",
       "        text-align: right;\n",
       "    }\n",
       "</style>\n",
       "<table border=\"1\" class=\"dataframe\">\n",
       "  <thead>\n",
       "    <tr style=\"text-align: right;\">\n",
       "      <th></th>\n",
       "      <th>size</th>\n",
       "      <th>price</th>\n",
       "    </tr>\n",
       "  </thead>\n",
       "  <tbody>\n",
       "    <tr>\n",
       "      <th>0</th>\n",
       "      <td>30.0</td>\n",
       "      <td>75.760161</td>\n",
       "    </tr>\n",
       "    <tr>\n",
       "      <th>1</th>\n",
       "      <td>31.0</td>\n",
       "      <td>81.662679</td>\n",
       "    </tr>\n",
       "    <tr>\n",
       "      <th>2</th>\n",
       "      <td>32.0</td>\n",
       "      <td>60.944950</td>\n",
       "    </tr>\n",
       "    <tr>\n",
       "      <th>3</th>\n",
       "      <td>33.0</td>\n",
       "      <td>67.890597</td>\n",
       "    </tr>\n",
       "    <tr>\n",
       "      <th>4</th>\n",
       "      <td>34.0</td>\n",
       "      <td>87.957014</td>\n",
       "    </tr>\n",
       "  </tbody>\n",
       "</table>\n",
       "</div>"
      ],
      "text/plain": [
       "   size      price\n",
       "0  30.0  75.760161\n",
       "1  31.0  81.662679\n",
       "2  32.0  60.944950\n",
       "3  33.0  67.890597\n",
       "4  34.0  87.957014"
      ]
     },
     "execution_count": 3,
     "metadata": {},
     "output_type": "execute_result"
    }
   ],
   "source": [
    "data.head()"
   ]
  },
  {
   "cell_type": "code",
   "execution_count": 4,
   "id": "30379913",
   "metadata": {},
   "outputs": [
    {
     "data": {
      "image/png": "[encoded data removed]",
      "text/plain": [
       "<Figure size 640x480 with 1 Axes>"
      ]
     },
     "metadata": {},
     "output_type": "display_data"
    }
   ],
   "source": [
    "# plot data:\n",
    "size = data['size']\n",
    "price = data['price']\n",
    "plt.scatter(size, price)\n",
    "# Set the x-axis label\n",
    "plt.xlabel(\"Size\")\n",
    "\n",
    "# Set the y-axis label\n",
    "plt.ylabel(\"Price\")\n",
    "\n",
    "# Set the title\n",
    "plt.title(\"Scatter Plot of Size vs Price\")\n",
    "\n",
    "# Display the plot\n",
    "plt.show()"
   ]
  },
  {
   "attachments": {},
   "cell_type": "markdown",
   "id": "377ea3a3",
   "metadata": {},
   "source": [
    "### Cost Function:"
   ]
  },
  {
   "cell_type": "code",
   "execution_count": 5,
   "id": "8eefb0e1",
   "metadata": {},
   "outputs": [],
   "source": [
    "def compute_cost(X, y, theta):\n",
    "    m = len(y)  # Number of training examples\n",
    "    \n",
    "    # Add a column of 1's to the X-matrix\n",
    "    X = np.concatenate((np.ones((m, 1)), X), axis=1)    \n",
    "    # Calculate the hypothesis (predicted values)\n",
    "    h = np.dot(X, theta)\n",
    "    \n",
    "    # Calculate the squared error\n",
    "    squared_error = (h - y) ** 2\n",
    "    \n",
    "    # Calculate the cost\n",
    "    cost = 1 / (2 * m) * np.sum(squared_error)\n",
    "    \n",
    "    return cost"
   ]
  },
  {
   "attachments": {},
   "cell_type": "markdown",
   "id": "dd65b90f",
   "metadata": {},
   "source": [
    "### Gradiant Descent"
   ]
  },
  {
   "cell_type": "code",
   "execution_count": 6,
   "id": "f9114003",
   "metadata": {},
   "outputs": [],
   "source": [
    "\n",
    "def gradient_descent(X, y, theta, alpha, num_iters):\n",
    "    m = len(y)  # Number of training examples\n",
    "    cost_history = []  # List to store the cost at each iteration\n",
    "    # Add a column of 1's to the X-matrix\n",
    "    X = np.concatenate((np.ones((m, 1)), X), axis=1)\n",
    "#     theta1_list = list(theta[1])\n",
    "    for _ in range(num_iters):\n",
    "\n",
    "        # Compute the hypothesis\n",
    "        h = np.dot(X, theta)\n",
    "\n",
    "        # Compute the error\n",
    "        error = h - y\n",
    "\n",
    "        # Update theta using gradient descent\n",
    "        theta = theta - (alpha/m) * np.dot(X.T, error)\n",
    "#         theta1_list.append(theta[1])\n",
    "\n",
    "        # Compute the cost and append it to the cost_history list\n",
    "        cost = compute_cost(X[:, 1:], y, theta)  # Exclude the column of 1's\n",
    "        cost_history.append(cost)\n",
    "\n",
    "    return theta, cost_history"
   ]
  },
  {
   "cell_type": "code",
   "execution_count": 14,
   "id": "2d38e261",
   "metadata": {},
   "outputs": [],
   "source": [
    "X = size.values.reshape(-1, 1)  # Assuming 'size' is a pandas Series\n",
    "y = price.values.reshape(-1, 1)  # Assuming 'price' is a pandas Series\n",
    "\n",
    "alpha = 0.00001  # Learning rate\n",
    "num_iters = 20  # Number of iterations\n",
    "theta = np.zeros((2, 1))  # Initialize theta with zeros\n",
    "# theta = np.random.uniform(0, 1,(2, 1))"
   ]
  },
  {
   "cell_type": "code",
   "execution_count": 8,
   "id": "313309f9",
   "metadata": {},
   "outputs": [
    {
     "data": {
      "text/plain": [
       "array([[0.],\n",
       "       [0.]])"
      ]
     },
     "execution_count": 8,
     "metadata": {},
     "output_type": "execute_result"
    }
   ],
   "source": [
    "theta"
   ]
  },
  {
   "cell_type": "code",
   "execution_count": 9,
   "id": "8a6c030a",
   "metadata": {},
   "outputs": [
    {
     "data": {
      "text/plain": [
       "array([0.])"
      ]
     },
     "execution_count": 9,
     "metadata": {},
     "output_type": "execute_result"
    }
   ],
   "source": [
    "theta[1]"
   ]
  },
  {
   "cell_type": "code",
   "execution_count": 15,
   "id": "06d919c7",
   "metadata": {},
   "outputs": [],
   "source": [
    "theta1, costs = gradient_descent(X, y, theta, alpha, num_iters)"
   ]
  },
  {
   "cell_type": "code",
   "execution_count": 11,
   "id": "c8260aba",
   "metadata": {
    "scrolled": true
   },
   "outputs": [
    {
     "data": {
      "text/plain": [
       "[70667154912.59772,\n",
       " 2.8534143881721405e+17,\n",
       " 1.1521581304563147e+24,\n",
       " 4.652210219024479e+30,\n",
       " 1.878479988977207e+37,\n",
       " 7.584969085356034e+43,\n",
       " 3.0626760127017162e+50,\n",
       " 1.2366542636130186e+57,\n",
       " 4.993390621044456e+63,\n",
       " 2.0162425851739286e+70,\n",
       " 8.141230019410192e+76,\n",
       " 3.2872843137190373e+83,\n",
       " 1.3273471125934496e+90,\n",
       " 5.359592262699409e+96,\n",
       " 2.1641083142345727e+103,\n",
       " 8.738285612384219e+109,\n",
       " 3.528364774598081e+116,\n",
       " 1.4246911276258685e+123,\n",
       " 5.752650133423573e+129,\n",
       " 2.3228181123528848e+136]"
      ]
     },
     "execution_count": 11,
     "metadata": {},
     "output_type": "execute_result"
    }
   ],
   "source": [
    "costs"
   ]
  },
  {
   "cell_type": "code",
   "execution_count": 130,
   "id": "3a11e7c0",
   "metadata": {
    "scrolled": true
   },
   "outputs": [
    {
     "data": {
      "text/plain": [
       "array([[-6.02033122e+63],\n",
       "       [-9.34584791e+65]])"
      ]
     },
     "execution_count": 130,
     "metadata": {},
     "output_type": "execute_result"
    }
   ],
   "source": [
    "theta1"
   ]
  },
  {
   "attachments": {},
   "cell_type": "markdown",
   "id": "03ff3f3b",
   "metadata": {},
   "source": [
    "### plot"
   ]
  },
  {
   "cell_type": "code",
   "execution_count": 16,
   "id": "b4df8b2a",
   "metadata": {
    "scrolled": false
   },
   "outputs": [
    {
     "data": {
      "image/png": "[encoded data removed]",
      "text/plain": [
       "<Figure size 640x480 with 1 Axes>"
      ]
     },
     "metadata": {},
     "output_type": "display_data"
    }
   ],
   "source": [
    "#theta, costs = gradient_descent(X, y, theta, alpha, num_iters)\n",
    "\n",
    "plt.plot(costs)\n",
    "plt.xlabel('Iteration')\n",
    "plt.ylabel('Cost')\n",
    "plt.title('Cost vs Iteration')\n",
    "plt.show()"
   ]
  },
  {
   "attachments": {},
   "cell_type": "markdown",
   "id": "067c19da",
   "metadata": {},
   "source": [
    "#### Explanation:\n",
    "As the plot shows the iteration and the cost are inverse. If the number of iteration goes up, the cost goes down."
   ]
  }
 ],
 "metadata": {
  "kernelspec": {
   "display_name": "Python 3 (ipykernel)",
   "language": "python",
   "name": "python3"
  },
  "language_info": {
   "codemirror_mode": {
    "name": "ipython",
    "version": 3
   },
   "file_extension": ".py",
   "mimetype": "text/x-python",
   "name": "python",
   "nbconvert_exporter": "python",
   "pygments_lexer": "ipython3",
   "version": "3.9.13"
  }
 },
 "nbformat": 4,
 "nbformat_minor": 5
}
